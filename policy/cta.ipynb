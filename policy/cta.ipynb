{
 "cells": [
  {
   "cell_type": "code",
   "execution_count": null,
   "metadata": {},
   "outputs": [],
   "source": [
    "import sys\n",
    "import pdb\n",
    "from time import sleep\n",
    "from logging import INFO\n",
    "\n",
    "from vnpy.event import EventEngine\n",
    "from vnpy.trader.setting import SETTINGS\n",
    "from vnpy.trader.engine import MainEngine\n",
    "\n",
    "from vnpy.gateway.huobif import HuobifGateway\n",
    "from vnpy.app.cta_strategy import CtaStrategyApp\n",
    "from vnpy.app.cta_strategy.base import EVENT_CTA_LOG\n",
    "from vnpy.trader.object import SubscribeRequest\n",
    "from vnpy.trader.constant import Exchange\n",
    "\n",
    "SETTINGS[\"log.active\"] = True\n",
    "SETTINGS[\"log.level\"] = INFO\n",
    "SETTINGS[\"log.console\"] = True\n",
    "\n",
    "default_setting = {\n",
    "    \"API Key\": \"2be6e594-12edb3eb-rfhfg2mkl3-74a68\",\n",
    "    \"Secret Key\": \"f3084214-4652d4fd-882f8eb2-b0256\",\n",
    "    \"会话数\": 3,\n",
    "    \"代理地址\": \"127.0.0.1\",\n",
    "    \"代理端口\": \"1087\",\n",
    "}\n",
    "\n",
    "ExchangeName = 'HUOBIF'"
   ]
  },
  {
   "cell_type": "code",
   "execution_count": null,
   "metadata": {},
   "outputs": [],
   "source": [
    "def run():\n",
    "    \"\"\"\n",
    "    Running in the child process.\n",
    "    \"\"\"\n",
    "    SETTINGS[\"log.file\"] = True\n",
    "\n",
    "    event_engine = EventEngine()\n",
    "    main_engine = MainEngine(event_engine)\n",
    "    main_engine.add_gateway(HuobifGateway)\n",
    "    cta_engine = main_engine.add_app(CtaStrategyApp)\n",
    "    main_engine.write_log(\"主引擎创建成功\")\n",
    "\n",
    "    log_engine = main_engine.get_engine(\"log\")\n",
    "    event_engine.register(EVENT_CTA_LOG, log_engine.process_log_event)\n",
    "    main_engine.write_log(\"注册日志事件监听\")\n",
    "\n",
    "    main_engine.connect(default_setting, ExchangeName)\n",
    "    main_engine.write_log(\"连接接口\")\n",
    "\n",
    "    sleep(10)\n",
    "    # main_engine.subscribe(sub, \"HUOBIF\")\n",
    "    policy = 'test'\n",
    "\n",
    "    cta_engine.init_engine()\n",
    "    main_engine.write_log(\"策略初始化完成\")\n",
    "\n",
    "    cta_engine.init_all_strategies()\n",
    "    sleep(10)   # Leave enough time to complete strategy initialization\n",
    "    \n",
    "    main_engine.write_log(\"策略全部初始化\")\n",
    "\n",
    "    cta_engine.start_strategy(policy)\n",
    "    main_engine.write_log(\"策略全部启动\")\n",
    "\n",
    "    while True:\n",
    "        sleep(10)\n",
    "\n",
    "\n",
    "if __name__ == \"__main__\":\n",
    "    run()"
   ]
  }
 ],
 "metadata": {
  "kernelspec": {
   "display_name": "Python 3",
   "language": "python",
   "name": "python3"
  },
  "language_info": {
   "codemirror_mode": {
    "name": "ipython",
    "version": 3
   },
   "file_extension": ".py",
   "mimetype": "text/x-python",
   "name": "python",
   "nbconvert_exporter": "python",
   "pygments_lexer": "ipython3",
   "version": "3.8.8"
  }
 },
 "nbformat": 4,
 "nbformat_minor": 4
}
