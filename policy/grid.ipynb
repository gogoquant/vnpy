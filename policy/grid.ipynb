{
 "cells": [
  {
   "cell_type": "code",
   "execution_count": null,
   "metadata": {},
   "outputs": [],
   "source": [
    "import sys\n",
    "import pdb\n",
    "from time import sleep\n",
    "from logging import INFO\n",
    "from vnpy.trader.setting import SETTINGS\n",
    "from vnpy.trader.constant import Exchange\n",
    "from vnpy.app.script_trader import init_cli_trading\n",
    "from vnpy.gateway.huobif import HuobifGateway\n",
    "from time import sleep\n",
    "from easydl import clear_output\n",
    "\n",
    "SETTINGS[\"log.active\"] = True\n",
    "SETTINGS[\"log.level\"] = INFO\n",
    "SETTINGS[\"log.console\"] = True\n",
    "\n",
    "Exchange = 'HUOBIF'\n",
    "    \n",
    "default_setting = {\n",
    "    \"API Key\": \"2be6e594-12edb3eb-rfhfg2mkl3-74a68\",\n",
    "    \"Secret Key\": \"f3084214-4652d4fd-882f8eb2-b0256\",\n",
    "    \"会话数\": 3,\n",
    "    \"代理地址\": \"127.0.0.1\",\n",
    "    \"代理端口\": \"1087\",\n",
    " \n",
    "}\n",
    "\n",
    "\n",
    "engine = init_cli_trading([HuobifGateway])\n",
    "engine.connect_gateway(default_setting, Exchange)\n",
    "print('准备交易')\n",
    "# 订阅行情\n",
    "sleep(15)\n",
    "print('开始交易')"
   ]
  },
  {
   "cell_type": "code",
   "execution_count": null,
   "metadata": {},
   "outputs": [],
   "source": [
    "engine.subscribe([\"ETH210924.HUOBI\"])\n",
    "# 查询所有合约\n",
    "engine.get_all_contracts(use_df=True)\n",
    "\n",
    "# 查询活动委托\n",
    "# print(engine.get_all_active_orders(use_df=True))"
   ]
  },
  {
   "cell_type": "code",
   "execution_count": null,
   "metadata": {},
   "outputs": [],
   "source": [
    "# 查询资金\n",
    "#engine.get_all_accounts(use_df=True)\n",
    "\n",
    "\n",
    "while True:\n",
    "    # 查询行情\n",
    "    ticker = engine.get_tick(\"ETH210625.HUOBI\", use_df=True)\n",
    "    if ticker is not None:\n",
    "        print(ticker)\n",
    "    else:\n",
    "        print('ticker is none')\n",
    "    sleep(2)\n",
    "    clear_output()"
   ]
  },
  {
   "cell_type": "code",
   "execution_count": null,
   "metadata": {},
   "outputs": [],
   "source": []
  }
 ],
 "metadata": {
  "kernelspec": {
   "display_name": "Python 3",
   "language": "python",
   "name": "python3"
  },
  "language_info": {
   "codemirror_mode": {
    "name": "ipython",
    "version": 3
   },
   "file_extension": ".py",
   "mimetype": "text/x-python",
   "name": "python",
   "nbconvert_exporter": "python",
   "pygments_lexer": "ipython3",
   "version": "3.8.8"
  }
 },
 "nbformat": 4,
 "nbformat_minor": 4
}
